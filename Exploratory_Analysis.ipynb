{
 "cells": [
  {
   "cell_type": "markdown",
   "id": "0055f9aa",
   "metadata": {},
   "source": [
    "# <a href=\"https://colab.research.google.com/github/AlinaKasiuk/Book-Recommendation-System/blob/main/Exploratory_Analysis.ipynb\" target=\"_parent\"><img src=\"https://colab.research.google.com/assets/colab-badge.svg\" alt=\"Open In Colab\"/></a>"
   ]
  },
  {
   "cell_type": "markdown",
   "id": "2473596c",
   "metadata": {},
   "source": [
    "## Exploratary analisys and data preprocessing"
   ]
  },
  {
   "cell_type": "markdown",
   "id": "3aee34be",
   "metadata": {},
   "source": [
    "For this example we have chosen a dataset with information about the rooms in Amsterdam [\"Amsterdam AirBnb\" dataset](https://www.kaggle.com/adityadeshpande23/amsterdam-airbnb) available on Kaggle. \n",
    "\n",
    "This Dataset includes details of the total number of bedrooms, bathrooms, guests, latitude, longitude, reviews, if the place is instantly bookable, room_type in the hotel."
   ]
  },
  {
   "cell_type": "markdown",
   "id": "566dc693",
   "metadata": {},
   "source": [
    "####  Install the required libraries"
   ]
  },
  {
   "cell_type": "code",
   "execution_count": 1,
   "id": "9a7d3a64",
   "metadata": {},
   "outputs": [],
   "source": [
    "import matplotlib.pyplot as plt\n",
    "import numpy as np\n",
    "import os \n",
    "import pandas as pd"
   ]
  },
  {
   "cell_type": "markdown",
   "id": "dcfcd2f5",
   "metadata": {},
   "source": [
    "To print the graphs we use the functions available [here](https://www.kaggle.com/kerneler/starter-amsterdam-airbnb-37b7b3e1-1)."
   ]
  },
  {
   "cell_type": "markdown",
   "id": "b1e39127",
   "metadata": {},
   "source": [
    "####  Define the functions"
   ]
  },
  {
   "cell_type": "markdown",
   "id": "9cebca77",
   "metadata": {},
   "source": [
    "Function to print the histograms of the data distribution by columns:"
   ]
  },
  {
   "cell_type": "code",
   "execution_count": 17,
   "id": "96fde993",
   "metadata": {},
   "outputs": [],
   "source": [
    "def plotPerColumnDistribution(df, nGraphShown, nGraphPerRow):\n",
    "    nunique = df.nunique()\n",
    "    df = df[[col for col in df if nunique[col] > 1 and nunique[col] < 50]] # For displaying purposes, pick columns that have between 1 and 50 unique values\n",
    "    nRow, nCol = df.shape\n",
    "    columnNames = list(df)\n",
    "    nGraphRow = int((nCol + nGraphPerRow - 1) / nGraphPerRow)\n",
    "    plt.figure(num = None, figsize = (5 * nGraphPerRow, 5 * nGraphRow), dpi = 80, facecolor = 'w', edgecolor = 'k')\n",
    "    for i in range(min(nCol, nGraphShown)):\n",
    "        plt.subplot(nGraphRow, nGraphPerRow, i + 1)\n",
    "        columnDf = df.iloc[:, i]\n",
    "        if (not np.issubdtype(type(columnDf.iloc[0]), np.number)):\n",
    "            valueCounts = columnDf.value_counts()\n",
    "            valueCounts.plot.bar()\n",
    "        else:\n",
    "            columnDf.hist()\n",
    "        plt.ylabel('counts')\n",
    "        plt.xticks(rotation = 90)\n",
    "        plt.title(f'{columnNames[i]} (column {i})')\n",
    "    plt.tight_layout(pad = 1.0, w_pad = 1.0, h_pad = 1.0)\n",
    "    plt.show()"
   ]
  },
  {
   "cell_type": "markdown",
   "id": "743f7618",
   "metadata": {},
   "source": [
    "Function to print the correlation matrix:"
   ]
  },
  {
   "cell_type": "code",
   "execution_count": 3,
   "id": "b680157f",
   "metadata": {},
   "outputs": [],
   "source": [
    "def plotCorrelationMatrix(df, graphWidth):\n",
    "    filename = df.dataframeName\n",
    "    df = df.dropna('columns') # drop columns with NaN\n",
    "    df = df[[col for col in df if df[col].nunique() > 1]] # keep columns where there are more than 1 unique values\n",
    "    if df.shape[1] < 2:\n",
    "        print(f'No correlation plots shown: The number of non-NaN or constant columns ({df.shape[1]}) is less than 2')\n",
    "        return\n",
    "    corr = df.corr()\n",
    "    plt.figure(num=None, figsize=(graphWidth, graphWidth), dpi=80, facecolor='w', edgecolor='k')\n",
    "    corrMat = plt.matshow(corr, fignum = 1)\n",
    "    plt.xticks(range(len(corr.columns)), corr.columns, rotation=90)\n",
    "    plt.yticks(range(len(corr.columns)), corr.columns)\n",
    "    plt.gca().xaxis.tick_bottom()\n",
    "    plt.colorbar(corrMat)\n",
    "    plt.title(f'Correlation Matrix for {filename}', fontsize=15)\n",
    "    plt.show()"
   ]
  },
  {
   "cell_type": "markdown",
   "id": "87ba6e98",
   "metadata": {},
   "source": [
    "#### Exploring the downloaded archive"
   ]
  },
  {
   "cell_type": "markdown",
   "id": "5e7737cc",
   "metadata": {},
   "source": [
    "Unzip the archive downloaded from Kaggle if you have not done it manualy already. \n",
    "<i>Probably you need to change the directory name.</i>"
   ]
  },
  {
   "cell_type": "code",
   "execution_count": 4,
   "id": "0d7a4ca0",
   "metadata": {},
   "outputs": [],
   "source": [
    "import zipfile\n",
    "\n",
    "if not os.path.exists('./Datasets/'):\n",
    "    os.makedirs('./Datasets/')\n",
    "\n",
    "    # Choose the location of YOUR archive!!!\n",
    "    local_zip = 'C:\\\\Users\\\\Alina\\\\Downloads\\\\archive.zip'\n",
    "    zip_ref = zipfile.ZipFile(local_zip, 'r')\n",
    "    zip_ref.extractall('./Datasets/')\n",
    "\n",
    "    zip_ref.close()"
   ]
  },
  {
   "cell_type": "markdown",
   "id": "7ba43841",
   "metadata": {},
   "source": [
    "Choose the Datasets folder and obsereve which files are saved in it:"
   ]
  },
  {
   "cell_type": "code",
   "execution_count": 5,
   "id": "cfdc7142",
   "metadata": {},
   "outputs": [
    {
     "name": "stdout",
     "output_type": "stream",
     "text": [
      "['amsterdam.json', 'test.csv', 'train.csv', 'y_test.csv', 'y_train.csv']\n"
     ]
    }
   ],
   "source": [
    "print(os.listdir('./Datasets/'))"
   ]
  },
  {
   "cell_type": "markdown",
   "id": "6ae37cca",
   "metadata": {},
   "source": [
    "As we see, the archive contains five files: <i>'amsterdam.json', 'test.csv', 'train.csv', 'y_test.csv', 'y_train.csv'\n",
    "</i>."
   ]
  },
  {
   "cell_type": "markdown",
   "id": "e6c7f1d7",
   "metadata": {},
   "source": [
    "Let's have a look on the file <i>amsterdam.json</i>:"
   ]
  },
  {
   "cell_type": "code",
   "execution_count": 34,
   "id": "cb994221",
   "metadata": {},
   "outputs": [
    {
     "name": "stdout",
     "output_type": "stream",
     "text": [
      "The file amsterdam.json (dataset rating) has 15181 rows and 13 columns\n"
     ]
    }
   ],
   "source": [
    "ams = pd.read_json('./Datasets/amsterdam.json')\n",
    "ams.dataframeName = 'amsterdam.json'\n",
    "nRow, nCol = ams.shape\n",
    "print(f'The file amsterdam.json has {nRow} rows and {nCol} columns')"
   ]
  },
  {
   "cell_type": "code",
   "execution_count": 10,
   "id": "a1ad1117",
   "metadata": {},
   "outputs": [
    {
     "data": {
      "text/html": [
       "<div>\n",
       "<style scoped>\n",
       "    .dataframe tbody tr th:only-of-type {\n",
       "        vertical-align: middle;\n",
       "    }\n",
       "\n",
       "    .dataframe tbody tr th {\n",
       "        vertical-align: top;\n",
       "    }\n",
       "\n",
       "    .dataframe thead th {\n",
       "        text-align: right;\n",
       "    }\n",
       "</style>\n",
       "<table border=\"1\" class=\"dataframe\">\n",
       "  <thead>\n",
       "    <tr style=\"text-align: right;\">\n",
       "      <th></th>\n",
       "      <th>host_listings_count</th>\n",
       "      <th>accommodates</th>\n",
       "      <th>bathrooms</th>\n",
       "      <th>bedrooms</th>\n",
       "      <th>guests_included</th>\n",
       "      <th>minimum_nights</th>\n",
       "      <th>number_of_reviews</th>\n",
       "      <th>calculated_host_listings_count</th>\n",
       "      <th>price</th>\n",
       "      <th>latitude</th>\n",
       "      <th>longitude</th>\n",
       "      <th>room_type</th>\n",
       "      <th>instant_bookable</th>\n",
       "    </tr>\n",
       "  </thead>\n",
       "  <tbody>\n",
       "    <tr>\n",
       "      <th>0</th>\n",
       "      <td>1.0</td>\n",
       "      <td>6</td>\n",
       "      <td>1.0</td>\n",
       "      <td>2.0</td>\n",
       "      <td>1</td>\n",
       "      <td>3</td>\n",
       "      <td>4</td>\n",
       "      <td>1</td>\n",
       "      <td>$145.00</td>\n",
       "      <td>52.361173</td>\n",
       "      <td>4.866755</td>\n",
       "      <td>Entire home/apt</td>\n",
       "      <td>f</td>\n",
       "    </tr>\n",
       "    <tr>\n",
       "      <th>1</th>\n",
       "      <td>1.0</td>\n",
       "      <td>2</td>\n",
       "      <td>1.0</td>\n",
       "      <td>1.0</td>\n",
       "      <td>1</td>\n",
       "      <td>2</td>\n",
       "      <td>17</td>\n",
       "      <td>1</td>\n",
       "      <td>$88.00</td>\n",
       "      <td>52.370237</td>\n",
       "      <td>4.859507</td>\n",
       "      <td>Entire home/apt</td>\n",
       "      <td>f</td>\n",
       "    </tr>\n",
       "    <tr>\n",
       "      <th>2</th>\n",
       "      <td>1.0</td>\n",
       "      <td>2</td>\n",
       "      <td>1.0</td>\n",
       "      <td>1.0</td>\n",
       "      <td>2</td>\n",
       "      <td>2</td>\n",
       "      <td>4</td>\n",
       "      <td>1</td>\n",
       "      <td>$130.00</td>\n",
       "      <td>52.362016</td>\n",
       "      <td>4.866872</td>\n",
       "      <td>Entire home/apt</td>\n",
       "      <td>f</td>\n",
       "    </tr>\n",
       "    <tr>\n",
       "      <th>3</th>\n",
       "      <td>2.0</td>\n",
       "      <td>4</td>\n",
       "      <td>1.0</td>\n",
       "      <td>2.0</td>\n",
       "      <td>2</td>\n",
       "      <td>4</td>\n",
       "      <td>2</td>\n",
       "      <td>2</td>\n",
       "      <td>$110.00</td>\n",
       "      <td>52.365826</td>\n",
       "      <td>4.858178</td>\n",
       "      <td>Entire home/apt</td>\n",
       "      <td>f</td>\n",
       "    </tr>\n",
       "    <tr>\n",
       "      <th>4</th>\n",
       "      <td>1.0</td>\n",
       "      <td>2</td>\n",
       "      <td>1.0</td>\n",
       "      <td>1.0</td>\n",
       "      <td>1</td>\n",
       "      <td>3</td>\n",
       "      <td>10</td>\n",
       "      <td>1</td>\n",
       "      <td>$115.00</td>\n",
       "      <td>52.364179</td>\n",
       "      <td>4.864885</td>\n",
       "      <td>Entire home/apt</td>\n",
       "      <td>f</td>\n",
       "    </tr>\n",
       "  </tbody>\n",
       "</table>\n",
       "</div>"
      ],
      "text/plain": [
       "   host_listings_count  accommodates  bathrooms  bedrooms  guests_included  \\\n",
       "0                  1.0             6        1.0       2.0                1   \n",
       "1                  1.0             2        1.0       1.0                1   \n",
       "2                  1.0             2        1.0       1.0                2   \n",
       "3                  2.0             4        1.0       2.0                2   \n",
       "4                  1.0             2        1.0       1.0                1   \n",
       "\n",
       "   minimum_nights  number_of_reviews  calculated_host_listings_count    price  \\\n",
       "0               3                  4                               1  $145.00   \n",
       "1               2                 17                               1   $88.00   \n",
       "2               2                  4                               1  $130.00   \n",
       "3               4                  2                               2  $110.00   \n",
       "4               3                 10                               1  $115.00   \n",
       "\n",
       "    latitude  longitude        room_type instant_bookable  \n",
       "0  52.361173   4.866755  Entire home/apt                f  \n",
       "1  52.370237   4.859507  Entire home/apt                f  \n",
       "2  52.362016   4.866872  Entire home/apt                f  \n",
       "3  52.365826   4.858178  Entire home/apt                f  \n",
       "4  52.364179   4.864885  Entire home/apt                f  "
      ]
     },
     "execution_count": 10,
     "metadata": {},
     "output_type": "execute_result"
    }
   ],
   "source": [
    "ams.head(5)"
   ]
  },
  {
   "cell_type": "markdown",
   "id": "a8bcaf3e",
   "metadata": {},
   "source": [
    "Let's show the distribution of each variable in the histogram:"
   ]
  },
  {
   "cell_type": "code",
   "execution_count": 23,
   "id": "b44fc557",
   "metadata": {},
   "outputs": [
    {
     "data": {
      "image/png": "[encoded data removed]",
      "text/plain": [
       "<Figure size 1200x1200 with 9 Axes>"
      ]
     },
     "metadata": {},
     "output_type": "display_data"
    }
   ],
   "source": [
    "plotPerColumnDistribution(ams, 9, 3)"
   ]
  },
  {
   "cell_type": "code",
   "execution_count": 15,
   "id": "ec555734",
   "metadata": {},
   "outputs": [
    {
     "name": "stdout",
     "output_type": "stream",
     "text": [
      "(15181, 13)\n"
     ]
    }
   ],
   "source": [
    "print(ams.shape)"
   ]
  },
  {
   "cell_type": "markdown",
   "id": "f90e22be",
   "metadata": {},
   "source": [
    "Remove the symbols '$' and ',' from the variable ´price´:"
   ]
  },
  {
   "cell_type": "code",
   "execution_count": 24,
   "id": "56667ad3",
   "metadata": {},
   "outputs": [
    {
     "name": "stderr",
     "output_type": "stream",
     "text": [
      "C:\\Users\\Alina\\.conda\\envs\\Deep Learning\\lib\\site-packages\\ipykernel_launcher.py:2: FutureWarning: The default value of regex will change from True to False in a future version. In addition, single character regular expressions will *not* be treated as literal strings when regex=True.\n",
      "  \n"
     ]
    }
   ],
   "source": [
    "ams['price']=ams['price'].str.replace(',','')\n",
    "ams['price']=ams['price'].str.replace('$','')"
   ]
  },
  {
   "cell_type": "markdown",
   "id": "c26f89cc",
   "metadata": {},
   "source": [
    "Convert the price to the numeric format:"
   ]
  },
  {
   "cell_type": "code",
   "execution_count": 25,
   "id": "2b143a16",
   "metadata": {},
   "outputs": [],
   "source": [
    "ams['price']=pd.to_numeric(ams['price'])"
   ]
  },
  {
   "cell_type": "markdown",
   "id": "0e74c776",
   "metadata": {},
   "source": [
    "So now we have a look on a price distribution histogram."
   ]
  },
  {
   "cell_type": "code",
   "execution_count": 26,
   "id": "ef4e536f",
   "metadata": {},
   "outputs": [
    {
     "data": {
      "text/plain": [
       "Text(0.5, 1.0, 'Price')"
      ]
     },
     "execution_count": 26,
     "metadata": {},
     "output_type": "execute_result"
    },
    {
     "data": {
      "image/png": "[encoded data removed]",
      "text/plain": [
       "<Figure size 432x288 with 1 Axes>"
      ]
     },
     "metadata": {
      "needs_background": "light"
     },
     "output_type": "display_data"
    }
   ],
   "source": [
    "ams['price'].hist()\n",
    "plt.title(f'Price')"
   ]
  },
  {
   "cell_type": "markdown",
   "id": "2f51157a",
   "metadata": {},
   "source": [
    "Make a summary of the data we have in the dataframe:"
   ]
  },
  {
   "cell_type": "code",
   "execution_count": 28,
   "id": "5856d062",
   "metadata": {},
   "outputs": [
    {
     "data": {
      "text/html": [
       "<div>\n",
       "<style scoped>\n",
       "    .dataframe tbody tr th:only-of-type {\n",
       "        vertical-align: middle;\n",
       "    }\n",
       "\n",
       "    .dataframe tbody tr th {\n",
       "        vertical-align: top;\n",
       "    }\n",
       "\n",
       "    .dataframe thead th {\n",
       "        text-align: right;\n",
       "    }\n",
       "</style>\n",
       "<table border=\"1\" class=\"dataframe\">\n",
       "  <thead>\n",
       "    <tr style=\"text-align: right;\">\n",
       "      <th></th>\n",
       "      <th>host_listings_count</th>\n",
       "      <th>accommodates</th>\n",
       "      <th>bathrooms</th>\n",
       "      <th>bedrooms</th>\n",
       "      <th>guests_included</th>\n",
       "      <th>minimum_nights</th>\n",
       "      <th>number_of_reviews</th>\n",
       "      <th>calculated_host_listings_count</th>\n",
       "      <th>price</th>\n",
       "      <th>latitude</th>\n",
       "      <th>longitude</th>\n",
       "    </tr>\n",
       "  </thead>\n",
       "  <tbody>\n",
       "    <tr>\n",
       "      <th>count</th>\n",
       "      <td>15178.000000</td>\n",
       "      <td>15181.000000</td>\n",
       "      <td>15163.000000</td>\n",
       "      <td>15169.000000</td>\n",
       "      <td>15181.000000</td>\n",
       "      <td>15181.000000</td>\n",
       "      <td>15181.000000</td>\n",
       "      <td>15181.000000</td>\n",
       "      <td>15181.000000</td>\n",
       "      <td>15181.000000</td>\n",
       "      <td>15181.000000</td>\n",
       "    </tr>\n",
       "    <tr>\n",
       "      <th>mean</th>\n",
       "      <td>3.404994</td>\n",
       "      <td>2.917858</td>\n",
       "      <td>1.122832</td>\n",
       "      <td>1.412222</td>\n",
       "      <td>1.516106</td>\n",
       "      <td>2.882551</td>\n",
       "      <td>17.785456</td>\n",
       "      <td>2.934787</td>\n",
       "      <td>134.799223</td>\n",
       "      <td>52.365353</td>\n",
       "      <td>4.889025</td>\n",
       "    </tr>\n",
       "    <tr>\n",
       "      <th>std</th>\n",
       "      <td>11.324173</td>\n",
       "      <td>1.404973</td>\n",
       "      <td>0.356547</td>\n",
       "      <td>0.885127</td>\n",
       "      <td>1.004709</td>\n",
       "      <td>7.215722</td>\n",
       "      <td>34.747999</td>\n",
       "      <td>8.968696</td>\n",
       "      <td>85.751273</td>\n",
       "      <td>0.015738</td>\n",
       "      <td>0.034901</td>\n",
       "    </tr>\n",
       "    <tr>\n",
       "      <th>min</th>\n",
       "      <td>0.000000</td>\n",
       "      <td>1.000000</td>\n",
       "      <td>0.000000</td>\n",
       "      <td>0.000000</td>\n",
       "      <td>1.000000</td>\n",
       "      <td>1.000000</td>\n",
       "      <td>0.000000</td>\n",
       "      <td>1.000000</td>\n",
       "      <td>19.000000</td>\n",
       "      <td>52.290308</td>\n",
       "      <td>4.753513</td>\n",
       "    </tr>\n",
       "    <tr>\n",
       "      <th>25%</th>\n",
       "      <td>1.000000</td>\n",
       "      <td>2.000000</td>\n",
       "      <td>1.000000</td>\n",
       "      <td>1.000000</td>\n",
       "      <td>1.000000</td>\n",
       "      <td>2.000000</td>\n",
       "      <td>2.000000</td>\n",
       "      <td>1.000000</td>\n",
       "      <td>90.000000</td>\n",
       "      <td>52.355616</td>\n",
       "      <td>4.865016</td>\n",
       "    </tr>\n",
       "    <tr>\n",
       "      <th>50%</th>\n",
       "      <td>1.000000</td>\n",
       "      <td>2.000000</td>\n",
       "      <td>1.000000</td>\n",
       "      <td>1.000000</td>\n",
       "      <td>1.000000</td>\n",
       "      <td>2.000000</td>\n",
       "      <td>7.000000</td>\n",
       "      <td>1.000000</td>\n",
       "      <td>118.000000</td>\n",
       "      <td>52.365028</td>\n",
       "      <td>4.886344</td>\n",
       "    </tr>\n",
       "    <tr>\n",
       "      <th>75%</th>\n",
       "      <td>1.000000</td>\n",
       "      <td>4.000000</td>\n",
       "      <td>1.000000</td>\n",
       "      <td>2.000000</td>\n",
       "      <td>2.000000</td>\n",
       "      <td>3.000000</td>\n",
       "      <td>18.000000</td>\n",
       "      <td>1.000000</td>\n",
       "      <td>150.000000</td>\n",
       "      <td>52.374829</td>\n",
       "      <td>4.907857</td>\n",
       "    </tr>\n",
       "    <tr>\n",
       "      <th>max</th>\n",
       "      <td>106.000000</td>\n",
       "      <td>17.000000</td>\n",
       "      <td>8.000000</td>\n",
       "      <td>10.000000</td>\n",
       "      <td>16.000000</td>\n",
       "      <td>523.000000</td>\n",
       "      <td>496.000000</td>\n",
       "      <td>91.000000</td>\n",
       "      <td>3142.000000</td>\n",
       "      <td>52.426224</td>\n",
       "      <td>5.027689</td>\n",
       "    </tr>\n",
       "  </tbody>\n",
       "</table>\n",
       "</div>"
      ],
      "text/plain": [
       "       host_listings_count  accommodates     bathrooms      bedrooms  \\\n",
       "count         15178.000000  15181.000000  15163.000000  15169.000000   \n",
       "mean              3.404994      2.917858      1.122832      1.412222   \n",
       "std              11.324173      1.404973      0.356547      0.885127   \n",
       "min               0.000000      1.000000      0.000000      0.000000   \n",
       "25%               1.000000      2.000000      1.000000      1.000000   \n",
       "50%               1.000000      2.000000      1.000000      1.000000   \n",
       "75%               1.000000      4.000000      1.000000      2.000000   \n",
       "max             106.000000     17.000000      8.000000     10.000000   \n",
       "\n",
       "       guests_included  minimum_nights  number_of_reviews  \\\n",
       "count     15181.000000    15181.000000       15181.000000   \n",
       "mean          1.516106        2.882551          17.785456   \n",
       "std           1.004709        7.215722          34.747999   \n",
       "min           1.000000        1.000000           0.000000   \n",
       "25%           1.000000        2.000000           2.000000   \n",
       "50%           1.000000        2.000000           7.000000   \n",
       "75%           2.000000        3.000000          18.000000   \n",
       "max          16.000000      523.000000         496.000000   \n",
       "\n",
       "       calculated_host_listings_count         price      latitude  \\\n",
       "count                    15181.000000  15181.000000  15181.000000   \n",
       "mean                         2.934787    134.799223     52.365353   \n",
       "std                          8.968696     85.751273      0.015738   \n",
       "min                          1.000000     19.000000     52.290308   \n",
       "25%                          1.000000     90.000000     52.355616   \n",
       "50%                          1.000000    118.000000     52.365028   \n",
       "75%                          1.000000    150.000000     52.374829   \n",
       "max                         91.000000   3142.000000     52.426224   \n",
       "\n",
       "          longitude  \n",
       "count  15181.000000  \n",
       "mean       4.889025  \n",
       "std        0.034901  \n",
       "min        4.753513  \n",
       "25%        4.865016  \n",
       "50%        4.886344  \n",
       "75%        4.907857  \n",
       "max        5.027689  "
      ]
     },
     "execution_count": 28,
     "metadata": {},
     "output_type": "execute_result"
    }
   ],
   "source": [
    "ams.describe()"
   ]
  },
  {
   "cell_type": "markdown",
   "id": "01a19d0b",
   "metadata": {},
   "source": [
    "Varable types in the dataset:"
   ]
  },
  {
   "cell_type": "markdown",
   "id": "eaaed335",
   "metadata": {},
   "source": [
    "ams.dtypes"
   ]
  },
  {
   "cell_type": "markdown",
   "id": "ba8605d8",
   "metadata": {},
   "source": [
    "Plot the correlation matrix for the variables:"
   ]
  },
  {
   "cell_type": "code",
   "execution_count": 32,
   "id": "013395fb",
   "metadata": {},
   "outputs": [
    {
     "name": "stderr",
     "output_type": "stream",
     "text": [
      "C:\\Users\\Alina\\.conda\\envs\\Deep Learning\\lib\\site-packages\\ipykernel_launcher.py:3: FutureWarning: In a future version of pandas all arguments of DataFrame.dropna will be keyword-only\n",
      "  This is separate from the ipykernel package so we can avoid doing imports until\n"
     ]
    },
    {
     "data": {
      "image/png": "[encoded data removed]",
      "text/plain": [
       "<Figure size 640x640 with 2 Axes>"
      ]
     },
     "metadata": {},
     "output_type": "display_data"
    }
   ],
   "source": [
    "plotCorrelationMatrix(ams, 8)"
   ]
  },
  {
   "cell_type": "markdown",
   "id": "3abd3a09",
   "metadata": {},
   "source": [
    "Here we can clearly see that the price depends more on the number of accommodations than on other variables."
   ]
  },
  {
   "cell_type": "markdown",
   "id": "7d692e18",
   "metadata": {},
   "source": [
    "Let's have a look on another files"
   ]
  },
  {
   "cell_type": "code",
   "execution_count": 35,
   "id": "95cdd461",
   "metadata": {},
   "outputs": [
    {
     "name": "stdout",
     "output_type": "stream",
     "text": [
      "The file test.csv has 4500 rows and 16 columns\n"
     ]
    }
   ],
   "source": [
    "x_test = pd.read_csv('./Datasets/test.csv', delimiter=',')\n",
    "x_test.dataframeName = 'test.csv'\n",
    "nRow, nCol = x_test.shape\n",
    "print(f'The file test.csv has {nRow} rows and {nCol} columns')"
   ]
  },
  {
   "cell_type": "code",
   "execution_count": 36,
   "id": "438a0d20",
   "metadata": {},
   "outputs": [
    {
     "data": {
      "text/html": [
       "<div>\n",
       "<style scoped>\n",
       "    .dataframe tbody tr th:only-of-type {\n",
       "        vertical-align: middle;\n",
       "    }\n",
       "\n",
       "    .dataframe tbody tr th {\n",
       "        vertical-align: top;\n",
       "    }\n",
       "\n",
       "    .dataframe thead th {\n",
       "        text-align: right;\n",
       "    }\n",
       "</style>\n",
       "<table border=\"1\" class=\"dataframe\">\n",
       "  <thead>\n",
       "    <tr style=\"text-align: right;\">\n",
       "      <th></th>\n",
       "      <th>accommodates</th>\n",
       "      <th>bathrooms</th>\n",
       "      <th>bedrooms</th>\n",
       "      <th>calculated_host_listings_count</th>\n",
       "      <th>guests_included</th>\n",
       "      <th>host_listings_count</th>\n",
       "      <th>latitude</th>\n",
       "      <th>longitude</th>\n",
       "      <th>minimum_nights</th>\n",
       "      <th>number_of_reviews</th>\n",
       "      <th>d_centre</th>\n",
       "      <th>instant_bookable_f</th>\n",
       "      <th>instant_bookable_t</th>\n",
       "      <th>room_type_Entire home/apt</th>\n",
       "      <th>room_type_Private room</th>\n",
       "      <th>room_type_Shared room</th>\n",
       "    </tr>\n",
       "  </thead>\n",
       "  <tbody>\n",
       "    <tr>\n",
       "      <th>0</th>\n",
       "      <td>3</td>\n",
       "      <td>1.0</td>\n",
       "      <td>1.0</td>\n",
       "      <td>1</td>\n",
       "      <td>1</td>\n",
       "      <td>1.0</td>\n",
       "      <td>52.339005</td>\n",
       "      <td>4.944442</td>\n",
       "      <td>5</td>\n",
       "      <td>7</td>\n",
       "      <td>5.410324</td>\n",
       "      <td>1</td>\n",
       "      <td>0</td>\n",
       "      <td>1</td>\n",
       "      <td>0</td>\n",
       "      <td>0</td>\n",
       "    </tr>\n",
       "    <tr>\n",
       "      <th>1</th>\n",
       "      <td>2</td>\n",
       "      <td>1.0</td>\n",
       "      <td>1.0</td>\n",
       "      <td>1</td>\n",
       "      <td>1</td>\n",
       "      <td>1.0</td>\n",
       "      <td>52.374981</td>\n",
       "      <td>4.890104</td>\n",
       "      <td>3</td>\n",
       "      <td>9</td>\n",
       "      <td>0.786783</td>\n",
       "      <td>1</td>\n",
       "      <td>0</td>\n",
       "      <td>1</td>\n",
       "      <td>0</td>\n",
       "      <td>0</td>\n",
       "    </tr>\n",
       "    <tr>\n",
       "      <th>2</th>\n",
       "      <td>5</td>\n",
       "      <td>2.0</td>\n",
       "      <td>5.0</td>\n",
       "      <td>11</td>\n",
       "      <td>2</td>\n",
       "      <td>15.0</td>\n",
       "      <td>52.401826</td>\n",
       "      <td>4.914041</td>\n",
       "      <td>6</td>\n",
       "      <td>4</td>\n",
       "      <td>2.703668</td>\n",
       "      <td>1</td>\n",
       "      <td>0</td>\n",
       "      <td>1</td>\n",
       "      <td>0</td>\n",
       "      <td>0</td>\n",
       "    </tr>\n",
       "    <tr>\n",
       "      <th>3</th>\n",
       "      <td>4</td>\n",
       "      <td>1.0</td>\n",
       "      <td>2.0</td>\n",
       "      <td>1</td>\n",
       "      <td>1</td>\n",
       "      <td>1.0</td>\n",
       "      <td>52.350448</td>\n",
       "      <td>4.798421</td>\n",
       "      <td>2</td>\n",
       "      <td>0</td>\n",
       "      <td>7.561760</td>\n",
       "      <td>1</td>\n",
       "      <td>0</td>\n",
       "      <td>1</td>\n",
       "      <td>0</td>\n",
       "      <td>0</td>\n",
       "    </tr>\n",
       "    <tr>\n",
       "      <th>4</th>\n",
       "      <td>2</td>\n",
       "      <td>1.0</td>\n",
       "      <td>1.0</td>\n",
       "      <td>1</td>\n",
       "      <td>1</td>\n",
       "      <td>1.0</td>\n",
       "      <td>52.361044</td>\n",
       "      <td>4.943895</td>\n",
       "      <td>5</td>\n",
       "      <td>3</td>\n",
       "      <td>3.628639</td>\n",
       "      <td>1</td>\n",
       "      <td>0</td>\n",
       "      <td>1</td>\n",
       "      <td>0</td>\n",
       "      <td>0</td>\n",
       "    </tr>\n",
       "  </tbody>\n",
       "</table>\n",
       "</div>"
      ],
      "text/plain": [
       "   accommodates  bathrooms  bedrooms  calculated_host_listings_count  \\\n",
       "0             3        1.0       1.0                               1   \n",
       "1             2        1.0       1.0                               1   \n",
       "2             5        2.0       5.0                              11   \n",
       "3             4        1.0       2.0                               1   \n",
       "4             2        1.0       1.0                               1   \n",
       "\n",
       "   guests_included  host_listings_count   latitude  longitude  minimum_nights  \\\n",
       "0                1                  1.0  52.339005   4.944442               5   \n",
       "1                1                  1.0  52.374981   4.890104               3   \n",
       "2                2                 15.0  52.401826   4.914041               6   \n",
       "3                1                  1.0  52.350448   4.798421               2   \n",
       "4                1                  1.0  52.361044   4.943895               5   \n",
       "\n",
       "   number_of_reviews  d_centre  instant_bookable_f  instant_bookable_t  \\\n",
       "0                  7  5.410324                   1                   0   \n",
       "1                  9  0.786783                   1                   0   \n",
       "2                  4  2.703668                   1                   0   \n",
       "3                  0  7.561760                   1                   0   \n",
       "4                  3  3.628639                   1                   0   \n",
       "\n",
       "   room_type_Entire home/apt  room_type_Private room  room_type_Shared room  \n",
       "0                          1                       0                      0  \n",
       "1                          1                       0                      0  \n",
       "2                          1                       0                      0  \n",
       "3                          1                       0                      0  \n",
       "4                          1                       0                      0  "
      ]
     },
     "execution_count": 36,
     "metadata": {},
     "output_type": "execute_result"
    }
   ],
   "source": [
    "x_test.head(5)"
   ]
  },
  {
   "cell_type": "code",
   "execution_count": 37,
   "id": "e0322e73",
   "metadata": {},
   "outputs": [
    {
     "data": {
      "text/plain": [
       "accommodates                        int64\n",
       "bathrooms                         float64\n",
       "bedrooms                          float64\n",
       "calculated_host_listings_count      int64\n",
       "guests_included                     int64\n",
       "host_listings_count               float64\n",
       "latitude                          float64\n",
       "longitude                         float64\n",
       "minimum_nights                      int64\n",
       "number_of_reviews                   int64\n",
       "d_centre                          float64\n",
       "instant_bookable_f                  int64\n",
       "instant_bookable_t                  int64\n",
       "room_type_Entire home/apt           int64\n",
       "room_type_Private room              int64\n",
       "room_type_Shared room               int64\n",
       "dtype: object"
      ]
     },
     "execution_count": 37,
     "metadata": {},
     "output_type": "execute_result"
    }
   ],
   "source": [
    "x_test.dtypes"
   ]
  },
  {
   "cell_type": "code",
   "execution_count": 41,
   "id": "1d083752",
   "metadata": {},
   "outputs": [
    {
     "name": "stdout",
     "output_type": "stream",
     "text": [
      "The file train.csv has 10498 rows and 16 columns\n"
     ]
    }
   ],
   "source": [
    "x_train = pd.read_csv('./Datasets/train.csv', delimiter=',')\n",
    "x_train.dataframeName = 'train.csv'\n",
    "nRow, nCol = x_train.shape\n",
    "print(f'The file train.csv has {nRow} rows and {nCol} columns')"
   ]
  },
  {
   "cell_type": "code",
   "execution_count": 42,
   "id": "a3638057",
   "metadata": {},
   "outputs": [
    {
     "data": {
      "text/html": [
       "<div>\n",
       "<style scoped>\n",
       "    .dataframe tbody tr th:only-of-type {\n",
       "        vertical-align: middle;\n",
       "    }\n",
       "\n",
       "    .dataframe tbody tr th {\n",
       "        vertical-align: top;\n",
       "    }\n",
       "\n",
       "    .dataframe thead th {\n",
       "        text-align: right;\n",
       "    }\n",
       "</style>\n",
       "<table border=\"1\" class=\"dataframe\">\n",
       "  <thead>\n",
       "    <tr style=\"text-align: right;\">\n",
       "      <th></th>\n",
       "      <th>accommodates</th>\n",
       "      <th>bathrooms</th>\n",
       "      <th>bedrooms</th>\n",
       "      <th>calculated_host_listings_count</th>\n",
       "      <th>guests_included</th>\n",
       "      <th>host_listings_count</th>\n",
       "      <th>latitude</th>\n",
       "      <th>longitude</th>\n",
       "      <th>minimum_nights</th>\n",
       "      <th>number_of_reviews</th>\n",
       "      <th>d_centre</th>\n",
       "      <th>instant_bookable_f</th>\n",
       "      <th>instant_bookable_t</th>\n",
       "      <th>room_type_Entire home/apt</th>\n",
       "      <th>room_type_Private room</th>\n",
       "      <th>room_type_Shared room</th>\n",
       "    </tr>\n",
       "  </thead>\n",
       "  <tbody>\n",
       "    <tr>\n",
       "      <th>0</th>\n",
       "      <td>4</td>\n",
       "      <td>2.0</td>\n",
       "      <td>2.0</td>\n",
       "      <td>1</td>\n",
       "      <td>1</td>\n",
       "      <td>1.0</td>\n",
       "      <td>52.358466</td>\n",
       "      <td>4.933843</td>\n",
       "      <td>2</td>\n",
       "      <td>8</td>\n",
       "      <td>3.279483</td>\n",
       "      <td>1</td>\n",
       "      <td>0</td>\n",
       "      <td>1</td>\n",
       "      <td>0</td>\n",
       "      <td>0</td>\n",
       "    </tr>\n",
       "    <tr>\n",
       "      <th>1</th>\n",
       "      <td>4</td>\n",
       "      <td>1.0</td>\n",
       "      <td>2.0</td>\n",
       "      <td>1</td>\n",
       "      <td>2</td>\n",
       "      <td>1.0</td>\n",
       "      <td>52.363589</td>\n",
       "      <td>4.983353</td>\n",
       "      <td>3</td>\n",
       "      <td>0</td>\n",
       "      <td>5.951843</td>\n",
       "      <td>1</td>\n",
       "      <td>0</td>\n",
       "      <td>1</td>\n",
       "      <td>0</td>\n",
       "      <td>0</td>\n",
       "    </tr>\n",
       "    <tr>\n",
       "      <th>2</th>\n",
       "      <td>2</td>\n",
       "      <td>1.0</td>\n",
       "      <td>1.0</td>\n",
       "      <td>1</td>\n",
       "      <td>1</td>\n",
       "      <td>1.0</td>\n",
       "      <td>52.375209</td>\n",
       "      <td>4.861647</td>\n",
       "      <td>3</td>\n",
       "      <td>8</td>\n",
       "      <td>2.601055</td>\n",
       "      <td>1</td>\n",
       "      <td>0</td>\n",
       "      <td>1</td>\n",
       "      <td>0</td>\n",
       "      <td>0</td>\n",
       "    </tr>\n",
       "    <tr>\n",
       "      <th>3</th>\n",
       "      <td>2</td>\n",
       "      <td>1.0</td>\n",
       "      <td>1.0</td>\n",
       "      <td>1</td>\n",
       "      <td>1</td>\n",
       "      <td>1.0</td>\n",
       "      <td>52.387382</td>\n",
       "      <td>4.890457</td>\n",
       "      <td>2</td>\n",
       "      <td>41</td>\n",
       "      <td>1.095138</td>\n",
       "      <td>1</td>\n",
       "      <td>0</td>\n",
       "      <td>0</td>\n",
       "      <td>1</td>\n",
       "      <td>0</td>\n",
       "    </tr>\n",
       "    <tr>\n",
       "      <th>4</th>\n",
       "      <td>2</td>\n",
       "      <td>1.0</td>\n",
       "      <td>1.0</td>\n",
       "      <td>1</td>\n",
       "      <td>1</td>\n",
       "      <td>1.0</td>\n",
       "      <td>52.384062</td>\n",
       "      <td>4.889877</td>\n",
       "      <td>3</td>\n",
       "      <td>0</td>\n",
       "      <td>0.844491</td>\n",
       "      <td>1</td>\n",
       "      <td>0</td>\n",
       "      <td>1</td>\n",
       "      <td>0</td>\n",
       "      <td>0</td>\n",
       "    </tr>\n",
       "  </tbody>\n",
       "</table>\n",
       "</div>"
      ],
      "text/plain": [
       "   accommodates  bathrooms  bedrooms  calculated_host_listings_count  \\\n",
       "0             4        2.0       2.0                               1   \n",
       "1             4        1.0       2.0                               1   \n",
       "2             2        1.0       1.0                               1   \n",
       "3             2        1.0       1.0                               1   \n",
       "4             2        1.0       1.0                               1   \n",
       "\n",
       "   guests_included  host_listings_count   latitude  longitude  minimum_nights  \\\n",
       "0                1                  1.0  52.358466   4.933843               2   \n",
       "1                2                  1.0  52.363589   4.983353               3   \n",
       "2                1                  1.0  52.375209   4.861647               3   \n",
       "3                1                  1.0  52.387382   4.890457               2   \n",
       "4                1                  1.0  52.384062   4.889877               3   \n",
       "\n",
       "   number_of_reviews  d_centre  instant_bookable_f  instant_bookable_t  \\\n",
       "0                  8  3.279483                   1                   0   \n",
       "1                  0  5.951843                   1                   0   \n",
       "2                  8  2.601055                   1                   0   \n",
       "3                 41  1.095138                   1                   0   \n",
       "4                  0  0.844491                   1                   0   \n",
       "\n",
       "   room_type_Entire home/apt  room_type_Private room  room_type_Shared room  \n",
       "0                          1                       0                      0  \n",
       "1                          1                       0                      0  \n",
       "2                          1                       0                      0  \n",
       "3                          0                       1                      0  \n",
       "4                          1                       0                      0  "
      ]
     },
     "execution_count": 42,
     "metadata": {},
     "output_type": "execute_result"
    }
   ],
   "source": [
    "x_train.head(5)"
   ]
  },
  {
   "cell_type": "code",
   "execution_count": 43,
   "id": "78a2e5ce",
   "metadata": {},
   "outputs": [
    {
     "name": "stdout",
     "output_type": "stream",
     "text": [
      "The file y_test.csv has 4499 rows and 1 columns\n"
     ]
    }
   ],
   "source": [
    "y_test = pd.read_csv('./Datasets/y_test.csv', delimiter=',')\n",
    "y_test.dataframeName = 'y_test.csv'\n",
    "nRow, nCol = y_test.shape\n",
    "print(f'The file y_test.csv has {nRow} rows and {nCol} columns')"
   ]
  },
  {
   "cell_type": "code",
   "execution_count": 44,
   "id": "9d81d211",
   "metadata": {},
   "outputs": [
    {
     "data": {
      "text/html": [
       "<div>\n",
       "<style scoped>\n",
       "    .dataframe tbody tr th:only-of-type {\n",
       "        vertical-align: middle;\n",
       "    }\n",
       "\n",
       "    .dataframe tbody tr th {\n",
       "        vertical-align: top;\n",
       "    }\n",
       "\n",
       "    .dataframe thead th {\n",
       "        text-align: right;\n",
       "    }\n",
       "</style>\n",
       "<table border=\"1\" class=\"dataframe\">\n",
       "  <thead>\n",
       "    <tr style=\"text-align: right;\">\n",
       "      <th></th>\n",
       "      <th>59.0</th>\n",
       "    </tr>\n",
       "  </thead>\n",
       "  <tbody>\n",
       "    <tr>\n",
       "      <th>0</th>\n",
       "      <td>148.0</td>\n",
       "    </tr>\n",
       "    <tr>\n",
       "      <th>1</th>\n",
       "      <td>134.0</td>\n",
       "    </tr>\n",
       "    <tr>\n",
       "      <th>2</th>\n",
       "      <td>195.0</td>\n",
       "    </tr>\n",
       "    <tr>\n",
       "      <th>3</th>\n",
       "      <td>80.0</td>\n",
       "    </tr>\n",
       "    <tr>\n",
       "      <th>4</th>\n",
       "      <td>120.0</td>\n",
       "    </tr>\n",
       "  </tbody>\n",
       "</table>\n",
       "</div>"
      ],
      "text/plain": [
       "    59.0\n",
       "0  148.0\n",
       "1  134.0\n",
       "2  195.0\n",
       "3   80.0\n",
       "4  120.0"
      ]
     },
     "execution_count": 44,
     "metadata": {},
     "output_type": "execute_result"
    }
   ],
   "source": [
    "y_test.head(5)"
   ]
  },
  {
   "cell_type": "code",
   "execution_count": 45,
   "id": "25413725",
   "metadata": {},
   "outputs": [
    {
     "data": {
      "text/plain": [
       "59.0    float64\n",
       "dtype: object"
      ]
     },
     "execution_count": 45,
     "metadata": {},
     "output_type": "execute_result"
    }
   ],
   "source": [
    "y_test.dtypes"
   ]
  },
  {
   "cell_type": "code",
   "execution_count": 46,
   "id": "0449af1d",
   "metadata": {},
   "outputs": [
    {
     "name": "stdout",
     "output_type": "stream",
     "text": [
      "The file y_train.csv has 10497 rows and 1 columns\n"
     ]
    }
   ],
   "source": [
    "y_train = pd.read_csv('./Datasets/y_train.csv', delimiter=',')\n",
    "y_train.dataframeName = 'y_train.csv'\n",
    "nRow, nCol = y_train.shape\n",
    "print(f'The file y_train.csv has {nRow} rows and {nCol} columns')"
   ]
  },
  {
   "cell_type": "code",
   "execution_count": 47,
   "id": "5e034bad",
   "metadata": {},
   "outputs": [
    {
     "data": {
      "text/html": [
       "<div>\n",
       "<style scoped>\n",
       "    .dataframe tbody tr th:only-of-type {\n",
       "        vertical-align: middle;\n",
       "    }\n",
       "\n",
       "    .dataframe tbody tr th {\n",
       "        vertical-align: top;\n",
       "    }\n",
       "\n",
       "    .dataframe thead th {\n",
       "        text-align: right;\n",
       "    }\n",
       "</style>\n",
       "<table border=\"1\" class=\"dataframe\">\n",
       "  <thead>\n",
       "    <tr style=\"text-align: right;\">\n",
       "      <th></th>\n",
       "      <th>160.0</th>\n",
       "    </tr>\n",
       "  </thead>\n",
       "  <tbody>\n",
       "    <tr>\n",
       "      <th>0</th>\n",
       "      <td>120.0</td>\n",
       "    </tr>\n",
       "    <tr>\n",
       "      <th>1</th>\n",
       "      <td>99.0</td>\n",
       "    </tr>\n",
       "    <tr>\n",
       "      <th>2</th>\n",
       "      <td>100.0</td>\n",
       "    </tr>\n",
       "    <tr>\n",
       "      <th>3</th>\n",
       "      <td>175.0</td>\n",
       "    </tr>\n",
       "    <tr>\n",
       "      <th>4</th>\n",
       "      <td>119.0</td>\n",
       "    </tr>\n",
       "  </tbody>\n",
       "</table>\n",
       "</div>"
      ],
      "text/plain": [
       "   160.0\n",
       "0  120.0\n",
       "1   99.0\n",
       "2  100.0\n",
       "3  175.0\n",
       "4  119.0"
      ]
     },
     "execution_count": 47,
     "metadata": {},
     "output_type": "execute_result"
    }
   ],
   "source": [
    "y_train.head(5)"
   ]
  },
  {
   "cell_type": "markdown",
   "id": "09d1fafb",
   "metadata": {},
   "source": [
    "## Conclution\n",
    "\n",
    "For this example we have chosen a free avaible dataset from Kaggle. The downloaded <i>.zip</i> archive contains a <i>.json </i> file and 4 <i>.csv </i> files:\n",
    "<blockquote> <li><i>amsterdam.json</i></li>\n",
    " <li><i>test.csv</i></li>\n",
    " <li><i>train.csv</i></li>\n",
    " <li><i>y_test.csv</i></li>\n",
    " <li><i>y_train.csv</i></li></blockquote>\n",
    " viene\n",
    "The file <i>amsterdam.json</i> contains the entire dataset in the format comfortable to read. Other files provide separated data, well prepared work on the classification challenges. "
   ]
  }
 ],
 "metadata": {
  "kernelspec": {
   "display_name": "Python 3 (ipykernel)",
   "language": "python",
   "name": "python3"
  },
  "language_info": {
   "codemirror_mode": {
    "name": "ipython",
    "version": 3
   },
   "file_extension": ".py",
   "mimetype": "text/x-python",
   "name": "python",
   "nbconvert_exporter": "python",
   "pygments_lexer": "ipython3",
   "version": "3.7.13"
  }
 },
 "nbformat": 4,
 "nbformat_minor": 5
}
